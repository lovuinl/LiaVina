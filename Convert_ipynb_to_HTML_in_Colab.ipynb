{
  "nbformat": 4,
  "nbformat_minor": 0,
  "metadata": {
    "colab": {
      "name": "Convert ipynb to HTML in Colab.ipynb",
      "provenance": [],
      "include_colab_link": true
    },
    "kernelspec": {
      "name": "python3",
      "display_name": "Python 3"
    },
    "language_info": {
      "name": "python"
    }
  },
  "cells": [
    {
      "cell_type": "markdown",
      "metadata": {
        "id": "view-in-github",
        "colab_type": "text"
      },
      "source": [
        "<a href=\"https://colab.research.google.com/github/lovuinl/LiaVina/blob/main/Convert_ipynb_to_HTML_in_Colab.ipynb\" target=\"_parent\"><img src=\"https://colab.research.google.com/assets/colab-badge.svg\" alt=\"Open In Colab\"/></a>"
      ]
    },
    {
      "cell_type": "markdown",
      "source": [
        "**Instruction**:    \n",
        "1. Download the ipynb, which you want to convert, on your local computer.    \n",
        "2. Run the code below to upload the ipynb.  \n",
        "3. The html version will be downloaded automatically on your local machine.\n",
        "\n",
        "Enjoy it!"
      ],
      "metadata": {
        "id": "OOUwSOZ4AqyT"
      }
    },
    {
      "cell_type": "code",
      "source": [
        "!jupyter nbconvert --to html /10524615_2PA35_Lovina_Arwena_Amelia (2).ipynb"
      ],
      "metadata": {
        "colab": {
          "base_uri": "https://localhost:8080/"
        },
        "id": "hTWdzpo1gdWU",
        "outputId": "1a785b7e-a0a5-4639-e244-bd55c61e9a06"
      },
      "execution_count": 1,
      "outputs": [
        {
          "output_type": "stream",
          "name": "stdout",
          "text": [
            "/bin/bash: -c: line 1: syntax error near unexpected token `('\n",
            "/bin/bash: -c: line 1: `jupyter nbconvert --to html /10524615_2PA35_Lovina_Arwena_Amelia (2).ipynb'\n"
          ]
        }
      ]
    }
  ]
}